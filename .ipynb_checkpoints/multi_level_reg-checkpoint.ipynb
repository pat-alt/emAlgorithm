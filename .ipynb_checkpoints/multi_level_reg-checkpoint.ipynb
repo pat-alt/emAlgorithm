{
 "cells": [
  {
   "cell_type": "code",
   "execution_count": 4,
   "metadata": {},
   "outputs": [
    {
     "name": "stdout",
     "output_type": "stream",
     "text": [
      "The rpy2.ipython extension is already loaded. To reload it, use:\n",
      "  %reload_ext rpy2.ipython\n"
     ]
    }
   ],
   "source": [
    "import time\n",
    "tic = time.time()\n",
    "import numpy as np\n",
    "from numpy import random\n",
    "import pandas as pd\n",
    "from functools import reduce\n",
    "import operator\n",
    "import math\n",
    "%load_ext rpy2.ipython"
   ]
  },
  {
   "cell_type": "code",
   "execution_count": 5,
   "metadata": {},
   "outputs": [
    {
     "name": "stderr",
     "output_type": "stream",
     "text": [
      "R[write to console]: Lade nötiges Paket: Rcpp\n",
      "\n",
      "R[write to console]: Lade nötiges Paket: microbenchmark\n",
      "\n",
      "R[write to console]: Lade nötiges Paket: fromScratchR\n",
      "\n"
     ]
    }
   ],
   "source": [
    "%%R\n",
    "## Packages -----\n",
    "cran_packages <- list(\n",
    "    \"Rcpp\",\n",
    "    \"data.table\",\n",
    "    \"microbenchmark\",\n",
    "    \"ggplot2\"\n",
    ")\n",
    "invisible(\n",
    "    lapply(\n",
    "        cran_packages,\n",
    "        function(i) {\n",
    "            if (!require(i, character.only = T)) {\n",
    "                install.packages(i)\n",
    "                library(i, character.only = T)\n",
    "            } else {\n",
    "                library(i, character.only = T)\n",
    "            }\n",
    "        }\n",
    "    )\n",
    ")\n",
    "# Package containing a set of helper functions:\n",
    "if (!require(fromScratchR)) {\n",
    "    devtools::install_github(\"pat-alt/fromScratchR\")\n",
    "    library(fromScratchR)\n",
    "} else {\n",
    "    library(fromScratchR)\n",
    "}"
   ]
  },
  {
   "cell_type": "markdown",
   "metadata": {},
   "source": [
    "# Multi-level regression"
   ]
  },
  {
   "cell_type": "markdown",
   "metadata": {},
   "source": [
    "## Model and synthetic data"
   ]
  },
  {
   "cell_type": "markdown",
   "metadata": {},
   "source": [
    "## EM algorithm"
   ]
  },
  {
   "cell_type": "markdown",
   "metadata": {},
   "source": [
    "## Numerical test"
   ]
  },
  {
   "cell_type": "markdown",
   "metadata": {},
   "source": [
    "## Inference"
   ]
  },
  {
   "cell_type": "markdown",
   "metadata": {},
   "source": [
    "## Real data "
   ]
  }
 ],
 "metadata": {
  "kernelspec": {
   "display_name": "Python 3",
   "language": "python",
   "name": "python3"
  },
  "language_info": {
   "codemirror_mode": {
    "name": "ipython",
    "version": 3
   },
   "file_extension": ".py",
   "mimetype": "text/x-python",
   "name": "python",
   "nbconvert_exporter": "python",
   "pygments_lexer": "ipython3",
   "version": "3.8.0"
  }
 },
 "nbformat": 4,
 "nbformat_minor": 4
}
